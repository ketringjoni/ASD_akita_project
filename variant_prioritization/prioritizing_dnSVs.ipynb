{
 "cells": [
  {
   "cell_type": "code",
   "execution_count": null,
   "id": "a0d0c4c7-be3b-40cf-86c2-7e2d6fb5fb32",
   "metadata": {},
   "outputs": [],
   "source": [
    "import pandas as pd\n",
    "import numpy as np\n",
    "from pybedtools import BedTool\n",
    "\n",
    "repo_dir = '../'"
   ]
  },
  {
   "cell_type": "code",
   "execution_count": null,
   "id": "3d890ce2-7ad5-49d2-9859-f1603e4f2e8f",
   "metadata": {},
   "outputs": [],
   "source": [
    "SSC_dnSV_scored = pd.read_csv('SSC_SV_WGS_vcf_20211102144548/SSC_denovo_all_results.tsv', sep = '\\t', low_memory=False)\n",
    "SSC_dnSV_scored"
   ]
  },
  {
   "cell_type": "code",
   "execution_count": null,
   "id": "e8f9005a-31b8-48de-9e21-58407ecb4c0b",
   "metadata": {},
   "outputs": [],
   "source": []
  },
  {
   "cell_type": "code",
   "execution_count": null,
   "id": "5fdc2f14-69f7-4ff7-b5d8-eeb15ded06b4",
   "metadata": {},
   "outputs": [],
   "source": []
  },
  {
   "cell_type": "code",
   "execution_count": null,
   "id": "643c437e-5daf-4cfc-8eff-9eb5a843e858",
   "metadata": {},
   "outputs": [],
   "source": []
  },
  {
   "cell_type": "code",
   "execution_count": null,
   "id": "7c61d4e9-791a-454e-bb65-eeb7ae460136",
   "metadata": {},
   "outputs": [],
   "source": []
  },
  {
   "cell_type": "code",
   "execution_count": null,
   "id": "1db1ed6f-3ddf-4eb4-a3d3-f33a1b9240cf",
   "metadata": {},
   "outputs": [],
   "source": []
  },
  {
   "cell_type": "code",
   "execution_count": null,
   "id": "0de4be12-e4c0-4ea0-9132-623198af2043",
   "metadata": {},
   "outputs": [],
   "source": []
  }
 ],
 "metadata": {
  "kernelspec": {
   "display_name": "Python 3 (ipykernel)",
   "language": "python",
   "name": "python3"
  },
  "language_info": {
   "codemirror_mode": {
    "name": "ipython",
    "version": 3
   },
   "file_extension": ".py",
   "mimetype": "text/x-python",
   "name": "python",
   "nbconvert_exporter": "python",
   "pygments_lexer": "ipython3",
   "version": "3.10.13"
  }
 },
 "nbformat": 4,
 "nbformat_minor": 5
}
